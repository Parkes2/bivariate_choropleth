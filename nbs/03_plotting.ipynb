{
 "cells": [
  {
   "cell_type": "markdown",
   "metadata": {},
   "source": [
    "# Plotting\n",
    "\n",
    "> Plotting functions with an example below"
   ]
  },
  {
   "cell_type": "code",
   "execution_count": null,
   "metadata": {},
   "outputs": [],
   "source": [
    "#| default_exp plotting"
   ]
  },
  {
   "cell_type": "code",
   "execution_count": null,
   "metadata": {},
   "outputs": [],
   "source": [
    "#| export\n",
    "from bivariate_choropleth.grid_palette import GridPalette, BivariateGridPalette, letters\n",
    "import geopandas as gpd\n",
    "import pandas as pd\n",
    "import matplotlib.pyplot as plt\n",
    "from string import ascii_uppercase    "
   ]
  },
  {
   "cell_type": "code",
   "execution_count": null,
   "metadata": {},
   "outputs": [],
   "source": [
    "#| hide\n",
    "from nbdev.showdoc import *"
   ]
  },
  {
   "cell_type": "code",
   "execution_count": null,
   "metadata": {},
   "outputs": [],
   "source": [
    "#| export\n",
    "class BivariateChoropleth:\n",
    "    \"Class for Bivariate Choropleth\"\n",
    "    def __init__(self, gdf:gpd.GeoDataFrame, \n",
    "                 x:str, #column name for the x part of the bivariate axis\n",
    "                 y:str, #column name for the y part of the bivariate axis\n",
    "                 grid_size:int=3, # grid size, used in pd.cut and GridPalette\n",
    "                 gp=None, \n",
    "                 palette_name='blues2reds'):\n",
    "        if not isinstance(gdf, gpd.GeoDataFrame):\n",
    "            raise ValueError('Inputted frame is not a GeoDataFrame')\n",
    "        \n",
    "        self.gdf = gdf.loc[:, [x,y, 'geometry']]\n",
    "        self.x, self.y = x,y\n",
    "        self.grid_size = grid_size\n",
    "        self.gdf = self.gdf.pipe(BivariateChoropleth.get_bivar_rank, x, y, grid_size)\n",
    "        if gp is None:\n",
    "            self.gp = BivariateGridPalette(palette_name=palette_name, grid_size=grid_size)\n",
    "        else:\n",
    "            self.gp = gp\n",
    "        \n",
    "    @staticmethod\n",
    "    def get_bivar_rank(df,x,y,grid_size=3):\n",
    "        \"Create the bivariate ranks. These are of 1A, 3C etc., where y are numbers and x are letters\"\n",
    "        x_ranks = [letters[x] for x in range(grid_size)]\n",
    "        y_ranks = list(range(1,grid_size+1))\n",
    "        bivar_ranks = [str(y)+x for y in y_ranks for x in x_ranks]\n",
    "\n",
    "        x_rank_col=x[:3]+'_rank'\n",
    "        y_rank_col=y[:3]+'_rank'\n",
    "\n",
    "        df[x_rank_col] = pd.cut(df[x], grid_size, labels=x_ranks)\n",
    "        df[y_rank_col] = pd.cut(df[y], grid_size, labels=y_ranks)\n",
    "\n",
    "        df['bivar_rank'] = df[y_rank_col].astype(str) + df[x_rank_col].astype(str)\n",
    "        df['bivar_rank'] = pd.Categorical(df.bivar_rank, ordered=True, categories=bivar_ranks)\n",
    "\n",
    "        return df\n",
    "    \n",
    "    def set_defaults(self):\n",
    "        pass\n",
    "    \n",
    "    @staticmethod\n",
    "    def add_grid_legend(ax=None, gp=None, grid_size=None, palette_name='blues2reds'):\n",
    "        if grid_size is None:\n",
    "            # is this a good idea?\n",
    "            grid_size = globals().get('grid_size', 3)\n",
    "        if gp is None:\n",
    "            gp = BivariateGridPalette(palette_name=palette_name, grid_size=grid_size)\n",
    "        if ax is None:\n",
    "            ax = plt.gca()\n",
    "\n",
    "        #TODO: allow this to be changed by user input\n",
    "        cax = ax.inset_axes([1.1,0,0.2,0.2])\n",
    "        cax.imshow(gp.color_matrix)\n",
    "        cax.set_xticks([])\n",
    "        cax.set_yticks([])\n",
    "        cax.scatter(-0.5,-0.5, marker='^', color='k', clip_on=False)\n",
    "        cax.scatter(grid_size-0.5,grid_size-0.5, marker='>', color='k', clip_on=False) \n",
    "        return cax\n",
    "    \n",
    "    def plot_choropleth_with_grid_legend(self):\n",
    "        ax = self.gdf.plot(column='bivar_rank', cmap=self.gp.cmap)\n",
    "        ax.set_axis_off()\n",
    "        cax = BivariateChoropleth.add_grid_legend(ax, gp=self.gp, grid_size=self.grid_size)\n",
    "        cax.set_xlabel(self.x)\n",
    "        cax.set_ylabel(self.y)\n",
    "        return ax, cax"
   ]
  },
  {
   "cell_type": "code",
   "execution_count": null,
   "metadata": {},
   "outputs": [],
   "source": [
    "#| export\n",
    "def plot_bivariate_choropleth(\n",
    "    data: gpd.GeoDataFrame,\n",
    "    x: str,\n",
    "    y: str,\n",
    "    grid_size: int = None,  # Overrides grid_palette size if given\n",
    "    grid_palette: GridPalette = None,  # Defaults to palette_name\n",
    "    palette_name: str = 'blues2reds',  # Only used if grid_palette is None\n",
    "    return_frame: bool = False\n",
    ") -> plt.Axes:\n",
    "    \"\"\"Plotting function for bivariate choropleth.\"\"\"\n",
    "    \n",
    "    if grid_palette is not None:\n",
    "        if not isinstance(grid_palette, GridPalette):\n",
    "            print(\"grid_palette is not GridPalette, using default.\")\n",
    "            grid_palette = None\n",
    "        else:\n",
    "            # Use grid_palette's size if grid_size is not provided\n",
    "            if grid_size is None:\n",
    "                grid_size = grid_palette.grid_size\n",
    "            \n",
    "            # Ensure grid_palette matches the desired grid_size\n",
    "            if grid_size is not None and grid_palette.grid_size != grid_size:\n",
    "                print(f\"Resizing grid_palette from {grid_palette.grid_size} to {grid_size}.\")\n",
    "                grid_palette.resize(grid_size)\n",
    "    \n",
    "    # Final fallback if grid_size is still None\n",
    "    if grid_size is None:\n",
    "        grid_size = 3\n",
    "\n",
    "    choropleth = BivariateChoropleth(\n",
    "        data, x=x, y=y, grid_size=grid_size, gp=grid_palette, palette_name=palette_name\n",
    "    )\n",
    "    ax, cax = choropleth.plot_choropleth_with_grid_legend()\n",
    "\n",
    "    if return_frame:\n",
    "        return ax, cax, choropleth.gdf\n",
    "    return ax, cax\n"
   ]
  },
  {
   "cell_type": "code",
   "execution_count": null,
   "metadata": {},
   "outputs": [
    {
     "data": {
      "application/vnd.jupyter.widget-view+json": {
       "model_id": "99b587e3224344c4845d93ba56ac809c",
       "version_major": 2,
       "version_minor": 0
      },
      "text/plain": [
       "interactive(children=(Dropdown(description='name', options=('blues2reds', 'purple2gold', 'purple2cyan', 'green…"
      ]
     },
     "metadata": {},
     "output_type": "display_data"
    }
   ],
   "source": [
    "gp = BivariateGridPalette.from_dropdown()"
   ]
  },
  {
   "cell_type": "markdown",
   "metadata": {},
   "source": [
    "## An example"
   ]
  },
  {
   "cell_type": "code",
   "execution_count": null,
   "metadata": {},
   "outputs": [],
   "source": [
    "from bivariate_choropleth.shapefiles import load_gdf"
   ]
  },
  {
   "cell_type": "markdown",
   "metadata": {},
   "source": [
    "load the geodataframe from default path"
   ]
  },
  {
   "cell_type": "code",
   "execution_count": null,
   "metadata": {},
   "outputs": [
    {
     "data": {
      "text/html": [
       "<div>\n",
       "<style scoped>\n",
       "    .dataframe tbody tr th:only-of-type {\n",
       "        vertical-align: middle;\n",
       "    }\n",
       "\n",
       "    .dataframe tbody tr th {\n",
       "        vertical-align: top;\n",
       "    }\n",
       "\n",
       "    .dataframe thead th {\n",
       "        text-align: right;\n",
       "    }\n",
       "</style>\n",
       "<table border=\"1\" class=\"dataframe\">\n",
       "  <thead>\n",
       "    <tr style=\"text-align: right;\">\n",
       "      <th></th>\n",
       "      <th>STATEFP</th>\n",
       "      <th>COUNTYFP</th>\n",
       "      <th>COUNTYNS</th>\n",
       "      <th>GEOID</th>\n",
       "      <th>NAME</th>\n",
       "      <th>NAMELSAD</th>\n",
       "      <th>LSAD</th>\n",
       "      <th>CLASSFP</th>\n",
       "      <th>MTFCC</th>\n",
       "      <th>CSAFP</th>\n",
       "      <th>CBSAFP</th>\n",
       "      <th>METDIVFP</th>\n",
       "      <th>FUNCSTAT</th>\n",
       "      <th>ALAND</th>\n",
       "      <th>AWATER</th>\n",
       "      <th>INTPTLAT</th>\n",
       "      <th>INTPTLON</th>\n",
       "      <th>Shape_Leng</th>\n",
       "      <th>Shape_Area</th>\n",
       "      <th>geometry</th>\n",
       "    </tr>\n",
       "  </thead>\n",
       "  <tbody>\n",
       "    <tr>\n",
       "      <th>0</th>\n",
       "      <td>06</td>\n",
       "      <td>091</td>\n",
       "      <td>00277310</td>\n",
       "      <td>06091</td>\n",
       "      <td>Sierra</td>\n",
       "      <td>Sierra County</td>\n",
       "      <td>06</td>\n",
       "      <td>H1</td>\n",
       "      <td>G4020</td>\n",
       "      <td>None</td>\n",
       "      <td>None</td>\n",
       "      <td>None</td>\n",
       "      <td>A</td>\n",
       "      <td>2.468695e+09</td>\n",
       "      <td>2.329911e+07</td>\n",
       "      <td>+39.5769252</td>\n",
       "      <td>-120.5219926</td>\n",
       "      <td>375602.758281</td>\n",
       "      <td>4.200450e+09</td>\n",
       "      <td>POLYGON ((-120.6556 39.69357, -120.65554 39.69...</td>\n",
       "    </tr>\n",
       "    <tr>\n",
       "      <th>1</th>\n",
       "      <td>06</td>\n",
       "      <td>067</td>\n",
       "      <td>00277298</td>\n",
       "      <td>06067</td>\n",
       "      <td>Sacramento</td>\n",
       "      <td>Sacramento County</td>\n",
       "      <td>06</td>\n",
       "      <td>H1</td>\n",
       "      <td>G4020</td>\n",
       "      <td>472</td>\n",
       "      <td>40900</td>\n",
       "      <td>None</td>\n",
       "      <td>A</td>\n",
       "      <td>2.499984e+09</td>\n",
       "      <td>7.542543e+07</td>\n",
       "      <td>+38.4500161</td>\n",
       "      <td>-121.3404408</td>\n",
       "      <td>406584.174167</td>\n",
       "      <td>4.205516e+09</td>\n",
       "      <td>POLYGON ((-121.18858 38.71431, -121.18732 38.7...</td>\n",
       "    </tr>\n",
       "    <tr>\n",
       "      <th>2</th>\n",
       "      <td>06</td>\n",
       "      <td>083</td>\n",
       "      <td>00277306</td>\n",
       "      <td>06083</td>\n",
       "      <td>Santa Barbara</td>\n",
       "      <td>Santa Barbara County</td>\n",
       "      <td>06</td>\n",
       "      <td>H1</td>\n",
       "      <td>G4020</td>\n",
       "      <td>None</td>\n",
       "      <td>42200</td>\n",
       "      <td>None</td>\n",
       "      <td>A</td>\n",
       "      <td>7.084063e+09</td>\n",
       "      <td>2.729752e+09</td>\n",
       "      <td>+34.5370572</td>\n",
       "      <td>-120.0399729</td>\n",
       "      <td>891686.747247</td>\n",
       "      <td>1.449841e+10</td>\n",
       "      <td>MULTIPOLYGON (((-120.7343 34.90069, -120.73431...</td>\n",
       "    </tr>\n",
       "    <tr>\n",
       "      <th>3</th>\n",
       "      <td>06</td>\n",
       "      <td>009</td>\n",
       "      <td>01675885</td>\n",
       "      <td>06009</td>\n",
       "      <td>Calaveras</td>\n",
       "      <td>Calaveras County</td>\n",
       "      <td>06</td>\n",
       "      <td>H1</td>\n",
       "      <td>G4020</td>\n",
       "      <td>None</td>\n",
       "      <td>None</td>\n",
       "      <td>None</td>\n",
       "      <td>A</td>\n",
       "      <td>2.641785e+09</td>\n",
       "      <td>4.384187e+07</td>\n",
       "      <td>+38.1838996</td>\n",
       "      <td>-120.5614415</td>\n",
       "      <td>367005.879680</td>\n",
       "      <td>4.356213e+09</td>\n",
       "      <td>POLYGON ((-120.63095 38.34111, -120.63058 38.3...</td>\n",
       "    </tr>\n",
       "    <tr>\n",
       "      <th>4</th>\n",
       "      <td>06</td>\n",
       "      <td>111</td>\n",
       "      <td>00277320</td>\n",
       "      <td>06111</td>\n",
       "      <td>Ventura</td>\n",
       "      <td>Ventura County</td>\n",
       "      <td>06</td>\n",
       "      <td>H1</td>\n",
       "      <td>G4020</td>\n",
       "      <td>348</td>\n",
       "      <td>37100</td>\n",
       "      <td>None</td>\n",
       "      <td>A</td>\n",
       "      <td>4.771988e+09</td>\n",
       "      <td>9.473454e+08</td>\n",
       "      <td>+34.3587415</td>\n",
       "      <td>-119.1331432</td>\n",
       "      <td>527772.242190</td>\n",
       "      <td>8.413293e+09</td>\n",
       "      <td>MULTIPOLYGON (((-119.32923 34.22784, -119.3292...</td>\n",
       "    </tr>\n",
       "  </tbody>\n",
       "</table>\n",
       "</div>"
      ],
      "text/plain": [
       "  STATEFP COUNTYFP  COUNTYNS  GEOID           NAME              NAMELSAD LSAD  \\\n",
       "0      06      091  00277310  06091         Sierra         Sierra County   06   \n",
       "1      06      067  00277298  06067     Sacramento     Sacramento County   06   \n",
       "2      06      083  00277306  06083  Santa Barbara  Santa Barbara County   06   \n",
       "3      06      009  01675885  06009      Calaveras      Calaveras County   06   \n",
       "4      06      111  00277320  06111        Ventura        Ventura County   06   \n",
       "\n",
       "  CLASSFP  MTFCC CSAFP CBSAFP METDIVFP FUNCSTAT         ALAND        AWATER  \\\n",
       "0      H1  G4020  None   None     None        A  2.468695e+09  2.329911e+07   \n",
       "1      H1  G4020   472  40900     None        A  2.499984e+09  7.542543e+07   \n",
       "2      H1  G4020  None  42200     None        A  7.084063e+09  2.729752e+09   \n",
       "3      H1  G4020  None   None     None        A  2.641785e+09  4.384187e+07   \n",
       "4      H1  G4020   348  37100     None        A  4.771988e+09  9.473454e+08   \n",
       "\n",
       "      INTPTLAT      INTPTLON     Shape_Leng    Shape_Area  \\\n",
       "0  +39.5769252  -120.5219926  375602.758281  4.200450e+09   \n",
       "1  +38.4500161  -121.3404408  406584.174167  4.205516e+09   \n",
       "2  +34.5370572  -120.0399729  891686.747247  1.449841e+10   \n",
       "3  +38.1838996  -120.5614415  367005.879680  4.356213e+09   \n",
       "4  +34.3587415  -119.1331432  527772.242190  8.413293e+09   \n",
       "\n",
       "                                            geometry  \n",
       "0  POLYGON ((-120.6556 39.69357, -120.65554 39.69...  \n",
       "1  POLYGON ((-121.18858 38.71431, -121.18732 38.7...  \n",
       "2  MULTIPOLYGON (((-120.7343 34.90069, -120.73431...  \n",
       "3  POLYGON ((-120.63095 38.34111, -120.63058 38.3...  \n",
       "4  MULTIPOLYGON (((-119.32923 34.22784, -119.3292...  "
      ]
     },
     "execution_count": null,
     "metadata": {},
     "output_type": "execute_result"
    }
   ],
   "source": [
    "ca = load_gdf('ca_counties')\n",
    "ca = ca.to_crs(epsg=4326)\n",
    "\n",
    "ca.head()"
   ]
  },
  {
   "cell_type": "code",
   "execution_count": null,
   "metadata": {},
   "outputs": [],
   "source": [
    "from sklearn.datasets import fetch_california_housing\n",
    "import shapely\n",
    "from shapely import Point"
   ]
  },
  {
   "cell_type": "markdown",
   "metadata": {},
   "source": [
    "process the dataset. Get house prices from the Sklearn dataset. Create a geometry column (Point) with shapely. Perform a spatial join"
   ]
  },
  {
   "cell_type": "code",
   "execution_count": null,
   "metadata": {},
   "outputs": [],
   "source": [
    "housing = fetch_california_housing(as_frame=True)\n",
    "housing_data = housing.data.join(housing.target)\n",
    "housing_data['geometry'] = housing_data.apply(lambda x: Point(x.Longitude, x.Latitude), axis=1)\n",
    "\n",
    "housing_data = gpd.GeoDataFrame(housing_data, geometry='geometry', crs=\"EPSG:4326\") \n",
    "\n",
    "housing_data = gpd.sjoin(housing_data, ca, how='left', predicate='within')"
   ]
  },
  {
   "cell_type": "markdown",
   "metadata": {},
   "source": [
    "get the average per county (index to join on to the spatial data)"
   ]
  },
  {
   "cell_type": "code",
   "execution_count": null,
   "metadata": {},
   "outputs": [],
   "source": [
    "county_level_data = housing_data.groupby('COUNTYNS')[['Population', 'MedHouseVal']].mean()\n",
    "\n",
    "ca_geo = ca.set_index('COUNTYNS')[['geometry']]\n",
    "county_level_data = ca_geo.join(county_level_data)"
   ]
  },
  {
   "cell_type": "code",
   "execution_count": null,
   "metadata": {},
   "outputs": [
    {
     "data": {
      "image/png": "[encoded data removed]",
      "text/plain": [
       "<Figure size 640x480 with 1 Axes>"
      ]
     },
     "metadata": {},
     "output_type": "display_data"
    }
   ],
   "source": [
    "ax, cax = plot_bivariate_choropleth(county_level_data, y='MedHouseVal', x='Population', grid_palette=gp)"
   ]
  },
  {
   "cell_type": "code",
   "execution_count": null,
   "metadata": {},
   "outputs": [],
   "source": [
    "#| hide\n",
    "import nbdev; nbdev.nbdev_export()"
   ]
  }
 ],
 "metadata": {
  "kernelspec": {
   "display_name": "python3",
   "language": "python",
   "name": "python3"
  }
 },
 "nbformat": 4,
 "nbformat_minor": 4
}
