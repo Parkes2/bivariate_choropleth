{
 "cells": [
  {
   "cell_type": "markdown",
   "metadata": {},
   "source": [
    "# GridPalette\n",
    "\n",
    "> Class for the (Square) BivariateGridPalette. \n",
    "    \n",
    "Default is a 3x3 Grid with a `blues2red` color scheme. `grid_size` (N in the NxN grid) is to match the number of cuts in data\n",
    "\n",
    "Predefined palettes can be generated with `BivariateGridPalette.from_dropdown()`\n",
    "    \n",
    "If you have a upper left, lower right and upper right color users can use `BivariateGridPalette.from_list(upper_left_color, lower_right_color, upper_right_color)` (can be as arguments or an iterable)\n",
    "    \n",
    "    \n",
    "Users can use a color picker (though not recommended):\n",
    "1. Picking a single color: `BivariateGridPalette.from_picker()`\n",
    "2. Picking the corner colors: `BivariateGridPalette.from_pickers_3()`"
   ]
  },
  {
   "cell_type": "code",
   "execution_count": null,
   "metadata": {},
   "outputs": [],
   "source": [
    "#| default_exp grid_palette"
   ]
  },
  {
   "cell_type": "code",
   "execution_count": null,
   "metadata": {},
   "outputs": [],
   "source": [
    "#| hide\n",
    "from nbdev.showdoc import *"
   ]
  },
  {
   "cell_type": "code",
   "execution_count": null,
   "metadata": {},
   "outputs": [],
   "source": [
    "#| export\n",
    "import matplotlib.colors as mcolors\n",
    "import numpy as np\n",
    "import matplotlib.pyplot as plt\n",
    "from typing import Iterable, Union, Optional\n",
    "import ipywidgets as widgets\n",
    "import re\n",
    "import math\n",
    "from string import ascii_uppercase\n"
   ]
  },
  {
   "cell_type": "code",
   "execution_count": null,
   "metadata": {},
   "outputs": [],
   "source": [
    "#| export\n",
    "letters = list(ascii_uppercase) + [j+i for j in ascii_uppercase for i in ascii_uppercase]"
   ]
  },
  {
   "cell_type": "code",
   "execution_count": null,
   "metadata": {},
   "outputs": [],
   "source": [
    "#| export\n",
    "class GridPalette:\n",
    "    f\"Base class for GridPalettes. Max grid size is currently {len(letters)}\"\n",
    "    def __init__(self, color_list):\n",
    "        color_matrix = color_list_to_matrix(color_list)\n",
    "        self.color_list = color_list\n",
    "        self.color_matrix = color_matrix\n",
    "        self.cmap = mcolors.ListedColormap(self.color_list)\n",
    "        \n",
    "    @staticmethod\n",
    "    def color_list_to_matrix(color_list):\n",
    "        \"Take a list of colors and return a NxN matrix of colors\"\n",
    "        lsqrt = math.sqrt(len(color_list))\n",
    "        if lsqrt*lsqrt != len(color_list):\n",
    "            raise ValueError(\"Length of color list is not square.\")\n",
    "        if lsqrt > len(letters):\n",
    "            raise ValueError(\"Grid size exceeds max size: 26\")\n",
    "        if any([mcolors.is_color_like(c)==False for c in color_list]):\n",
    "            color_list = [mcolors.to_rgb(c) for c in color_list]\n",
    "        N = int(lsqrt)\n",
    "        return np.array([[color_list[x] for x in range(y*N, (y+1)*N)] for y in reversed(range(N))])\n",
    "    \n",
    "    def show_grid(self):\n",
    "        plt.imshow(self.color_matrix)\n",
    "        plt.yticks(list(range(self.grid_size)), [x+1 for x in reversed(range(self.grid_size))])\n",
    "        plt.xticks(list(range(self.grid_size)), [letters[i] for i in range(self.grid_size)])\n",
    "\n",
    "    def __repr__(self):\n",
    "        self.show_grid()\n",
    "        return f'BivariateGridPalette {self.palette_name}'"
   ]
  },
  {
   "cell_type": "code",
   "execution_count": null,
   "metadata": {},
   "outputs": [],
   "source": [
    "#| export\n",
    "class BivariateGridPalette(GridPalette):\n",
    "    \"\"\"\n",
    "    Class for the Palette. Creates a grid_size x grid_size matrix of colors from the inputed corner colors\n",
    "    \"\"\"\n",
    "\n",
    "    start_color = '#e8e8e8'\n",
    "    # this contains the reccomended palettes\n",
    "    bivar_color_dict = {\n",
    "        'blues2reds':['#64acbe', '#c85a5a','#574249'],\n",
    "        'purple2gold':['#9972af','#c8b35a','#804d36'],\n",
    "        'purple2cyan':['#be64ac','#5ac8c8','#3b4994'],\n",
    "        'green2blue':['#4b6e88','#73ae80','#2a5a5b']\n",
    "        }\n",
    "\n",
    "    def __init__(self, \n",
    "                 palette_name:str='blues2reds', \n",
    "                 grid_size:int=3, \n",
    "                 upper_left_color:Optional[Union[str, tuple]]=None, \n",
    "                 lower_right_color:Optional[Union[str, tuple]]=None, \n",
    "                 upper_right_color:Optional[Union[str, tuple]]=None):\n",
    "        \n",
    "        self.grid_size=grid_size\n",
    "        if palette_name not in BivariateGridPalette.bivar_color_dict.keys():\n",
    "            none_colors = [c for c in [upper_left_color, lower_right_color, upper_right_color] if c is None]\n",
    "            if len(none_colors)>0:\n",
    "                print(none_colors)\n",
    "                raise ValueError(f'If palette_name is not in palette names, colors must be provided. \\n Palette names: {\" ,\".join(BivariateGridPalette.bivar_color_dict.keys())}')\n",
    "            else:\n",
    "                self.palette_name=palette_name\n",
    "                self._update_from_colors(upper_left_color, lower_right_color, upper_right_color)\n",
    "        else:\n",
    "            self.palette_name=palette_name\n",
    "            self._update_from_name()\n",
    "        \n",
    "    def _set_properties(self):\n",
    "        self.color_matrix, self.color_list = self.get_bivar_cmap(color1 = self.upper_left_color,\n",
    "                                                                 color2 = self.lower_right_color, \n",
    "                                                                 color3 = self.upper_right_color,\n",
    "                                                                 N = self.grid_size,\n",
    "                                                                 start_color = BivariateGridPalette.start_color)\n",
    "        self.cmap = mcolors.ListedColormap(self.color_list, name=self.palette_name)\n",
    "\n",
    "    def _update_from_name(self):\n",
    "        self.upper_left_color, self.lower_right_color, self.upper_right_color = BivariateGridPalette.bivar_color_dict[self.palette_name]\n",
    "        self._set_properties()\n",
    "    \n",
    "    def resize(self, new_grid_size):\n",
    "        self.grid_size = new_grid_size\n",
    "        self._set_properties()\n",
    "    \n",
    "    @staticmethod \n",
    "    def color_unpack(*colors):\n",
    "        if any([c is None for c in colors[1:]]) or len(colors)==1:\n",
    "            color_ret = tuple(colors[0])\n",
    "        elif len(colors)>3 or len(colors)==2:\n",
    "            raise ValueError(\"Exactly three colors must be entered\")\n",
    "        else:\n",
    "            color_ret = tuple(colors)\n",
    "        invalid_colors = [c for c in color_ret if mcolors.is_color_like(c) == False]\n",
    "        if len(invalid_colors)>0:\n",
    "            raise ValueError(f\"Not all inputted colors are valid. Invalid colors: {invalid_colors}\")\n",
    "        return color_ret\n",
    "\n",
    "    def _update_from_colors(self, upper_left_color, lower_right_color=None, upper_right_color=None):\n",
    "        upper_left_color, lower_right_color, upper_right_color = BivariateGridPalette.color_unpack(upper_left_color, lower_right_color, upper_right_color)\n",
    "        self.upper_left_color = upper_left_color \n",
    "        self.lower_right_color = lower_right_color\n",
    "        self.upper_right_color = upper_right_color\n",
    "        self._set_properties()\n",
    "\n",
    "\n",
    "    @staticmethod\n",
    "    def get_bivar_cmap(color1, #upper left color\n",
    "                       color2, #lower right color\n",
    "                       color3, #upper right color\n",
    "                       N, #grid size\n",
    "                       start_color):\n",
    "        \"Function create color matrix and color list from upper left, lower right and upper right colors.\"\n",
    "        col1_cmap = mcolors.LinearSegmentedColormap.from_list('col1_cmap', [start_color, color1], N=N)\n",
    "        row1_cmap = mcolors.LinearSegmentedColormap.from_list('row1_cmap', [start_color, color2], N=N)\n",
    "        rowN_cmap = mcolors.LinearSegmentedColormap.from_list('rowN_cmap', [color1, color3], N=N)\n",
    "        colN_cmap = mcolors.LinearSegmentedColormap.from_list('colN_cmap', [color2, color3], N=N)\n",
    "\n",
    "        divisors = np.linspace(0,1,N)\n",
    "        middle_cmaps = [\n",
    "            mcolors.LinearSegmentedColormap.from_list(f'row{i}_cmap', \n",
    "                                                    [col1_cmap(div), colN_cmap(div)], \n",
    "                                                    N=N) \n",
    "            for i, div in enumerate(divisors[1:N-1], 1)\n",
    "        ]\n",
    "        cmaps = [row1_cmap] + middle_cmaps + [rowN_cmap]\n",
    "        colors = [cmap(div) for cmap in cmaps for div in divisors]\n",
    "\n",
    "        color_matrix = BivariateGridPalette.color_list_to_matrix(colors)\n",
    "        return color_matrix, colors\n",
    "    \n",
    "    def get_color_dict(self, mode='hex'):\n",
    "        \"Function to the corner colors from the Grid\"\n",
    "        if mode=='hex':\n",
    "            color1, color2, color3 = [mcolors.to_hex(c) for c in [self.upper_left_color, self.lower_right_color, self.upper_right_color]]\n",
    "        elif mode=='rgb':\n",
    "            color1, color2, color3 = [mcolors.to_rgb(c) for c in [self.upper_left_color, self.lower_right_color, self.upper_right_color]]\n",
    "        else:\n",
    "            raise NotImplementedError('other color dict types are not implemented yet')\n",
    "        return {self.palette_name: [color1,color2,color3]}\n"
   ]
  },
  {
   "cell_type": "markdown",
   "metadata": {},
   "source": [
    "the representation of the grid palette is the imshow of the color matrix"
   ]
  },
  {
   "cell_type": "code",
   "execution_count": null,
   "metadata": {},
   "outputs": [
    {
     "data": {
      "text/plain": [
       "BivariateGridPalette blues2reds"
      ]
     },
     "execution_count": null,
     "metadata": {},
     "output_type": "execute_result"
    },
    {
     "data": {
      "image/png": "[encoded data removed]",
      "text/plain": [
       "<Figure size 640x480 with 1 Axes>"
      ]
     },
     "metadata": {},
     "output_type": "display_data"
    }
   ],
   "source": [
    "gp = BivariateGridPalette(grid_size=5)\n",
    "gp"
   ]
  },
  {
   "cell_type": "markdown",
   "metadata": {},
   "source": [
    "you can resize grid palettes with `gp.resize(new_size)`"
   ]
  },
  {
   "cell_type": "code",
   "execution_count": null,
   "metadata": {},
   "outputs": [
    {
     "data": {
      "text/plain": [
       "BivariateGridPalette blues2reds"
      ]
     },
     "execution_count": null,
     "metadata": {},
     "output_type": "execute_result"
    },
    {
     "data": {
      "image/png": "[encoded data removed]",
      "text/plain": [
       "<Figure size 640x480 with 1 Axes>"
      ]
     },
     "metadata": {},
     "output_type": "display_data"
    }
   ],
   "source": [
    "gp.resize(30)\n",
    "assert len(gp.color_list) == 900\n",
    "gp"
   ]
  },
  {
   "cell_type": "markdown",
   "metadata": {},
   "source": [
    "## Generating Palettes"
   ]
  },
  {
   "cell_type": "code",
   "execution_count": null,
   "metadata": {},
   "outputs": [],
   "source": [
    "#| export\n",
    "@staticmethod\n",
    "def from_list(upper_left_color, \n",
    "              lower_right_color=None, \n",
    "              upper_right_color=None, \n",
    "              palette_name='from_list',\n",
    "             grid_size=3):\n",
    "    \"Generate a BivariateGridPalette from inputted corner colors\"\n",
    "    upper_left_color, lower_right_color, upper_right_color = BivariateGridPalette.color_unpack(upper_left_color, lower_right_color, upper_right_color)\n",
    "    return BivariateGridPalette(palette_name=palette_name,\n",
    "                       upper_left_color=upper_left_color,\n",
    "                       lower_right_color=lower_right_color,\n",
    "                       upper_right_color=upper_right_color,\n",
    "                       grid_size=grid_size\n",
    "                      )\n",
    "\n",
    "BivariateGridPalette.from_list = from_list\n"
   ]
  },
  {
   "cell_type": "code",
   "execution_count": null,
   "metadata": {},
   "outputs": [],
   "source": [
    "gp = BivariateGridPalette.from_list('#9972af','#c8b35a','#804d36')\n",
    "\n",
    "assert len(gp.color_list) == 9\n",
    "gp = BivariateGridPalette.from_list(['#9972af','#c8b35a','#804d36'], grid_size=4)\n",
    "assert len(gp.color_list) == 16"
   ]
  },
  {
   "cell_type": "code",
   "execution_count": null,
   "metadata": {},
   "outputs": [],
   "source": [
    "#| export\n",
    "@staticmethod\n",
    "def from_dropdown():\n",
    "    \"Select BivariateGridPalette from dropdown list\"\n",
    "    gp = BivariateGridPalette()\n",
    "    \n",
    "    @widgets.interact\n",
    "    def choose_palette(name=list(BivariateGridPalette.bivar_color_dict.keys()), \n",
    "                       grid_size=widgets.IntSlider(min=2, max=10, step=1, value=3, description=\"Grid Size:\")):\n",
    "        \n",
    "        gp.palette_name=name\n",
    "        gp.grid_size=grid_size\n",
    "        gp._update_from_name()\n",
    "        gp.show_grid()\n",
    "\n",
    "    return gp\n",
    "\n",
    "BivariateGridPalette.from_dropdown = from_dropdown"
   ]
  },
  {
   "cell_type": "code",
   "execution_count": null,
   "metadata": {},
   "outputs": [],
   "source": [
    "#| hide\n",
    "class BivariateGridPaletteRegistry(mcolors.ColorSequenceRegistry):\n",
    "    \"TODO: Registry for the premade grid palettes. \"\n",
    "    _BUILTIN_GRID_PALETTES = {\n",
    "        'blues2reds':BivariateGridPalette(palette_name='blues2reds'),\n",
    "        'purple2gold':BivariateGridPalette(palette_name='purple2gold'),\n",
    "        'purple2cyan':BivariateGridPalette(palette_name='purple2cyan'),\n",
    "        'green2blue':BivariateGridPalette(palette_name='green2blue')\n",
    "        }\n",
    "    def __init__(self): self._color_sequences = {**self._BUILTIN_GRID_PALETTES}\n",
    "    def __getitem__(self,item): return self._color_sequences[item]\n",
    "\n",
    "    def register(self, grid_palette):\n",
    "        if grid_palette.palette_name in self._BUILTIN_GRID_PALETTES.keys():\n",
    "            raise ValueError(f\"{name!r} is a reserved name for a builtin \"\n",
    "                             \"color sequence\")\n",
    "        color_list = list(grid_palette.color_list)  # force copy and coerce type to list\n",
    "        for color in color_list:\n",
    "            try:\n",
    "                mcolors.to_rgba(color)\n",
    "            except ValueError:\n",
    "                raise ValueError(\n",
    "                    f\"{color!r} is not a valid color specification\")\n",
    "        self._color_sequences[grid_palette.palette_name] = grid_palette\n",
    "\n",
    "    \n",
    "_gp_registry = BivariateGridPaletteRegistry()\n"
   ]
  },
  {
   "cell_type": "code",
   "execution_count": null,
   "metadata": {},
   "outputs": [],
   "source": [
    "#| export\n",
    "#| hide\n",
    "def darken_blend(top_left_color, bottom_right_color):\n",
    "    \"Function to blend colors for top right color\"\n",
    "    # do we need a check here?\n",
    "    top_left_color = mcolors.to_rgb(top_left_color)\n",
    "    bottom_right_color = mcolors.to_rgb(bottom_right_color)\n",
    "    return tuple([min(c1,c2) for c1, c2 in zip(top_left_color, bottom_right_color)])\n",
    "\n",
    "def split_complimentary_colors(color):\n",
    "    rgb = mcolors.to_rgb(color)\n",
    "    h,s,v = mcolors.rgb_to_hsv(rgb)\n",
    "    h += 1\n",
    "    h0 = h + 30/180\n",
    "    h1 = h - 30/180\n",
    "    return mcolors.hsv_to_rgb((h0,s,v)),mcolors.hsv_to_rgb((h1,s,v))\n",
    "\n",
    "def hex_to_hsv(color): return mcolors.rgb_to_hsv(mcolors.to_rgb(color))\n",
    "\n",
    "def get_opposite_color(color, degree=180):\n",
    "    h,s,v = hex_to_hsv(color)\n",
    "    #TODO: change degree? Should this whole method be replaced?\n",
    "    hnew = ((360*h)-degree)/360\n",
    "    return mcolors.hsv_to_rgb([hnew,s,v])"
   ]
  },
  {
   "cell_type": "code",
   "execution_count": null,
   "metadata": {},
   "outputs": [],
   "source": [
    "#| export\n",
    "_blend_modes = {\n",
    "    'darken':darken_blend\n",
    "}\n",
    "\n",
    "def from_picker(mode='darken'):\n",
    "    \"BivariateGridPalette from a single color picker\"\n",
    "    gp = BivariateGridPalette()\n",
    "    blend_mode = _blend_modes.get(mode, 'Not Implemented')\n",
    "    if blend_mode=='Not Implemented': raise NotImplementedError(f\"Only blend modes implemented are: {' '.join(_blend_modes.keys())}\")\n",
    "    \n",
    "    #TODO: add a degree slider: degree=widgets.IntSlider(min=1, max=359, step=1, value=180, description=\"Degree:\"),\n",
    "    @widgets.interact\n",
    "    def choose_top_left_color(upper_left_color=widgets.ColorPicker(value=gp.upper_left_color), #Color selected from picker\n",
    "                              grid_size=widgets.IntSlider(min=2, max=10, step=1, value=3, description=\"Grid Size:\"), #Size of grid (N)\n",
    "                              palette_name='from_picker' #User selected name.\n",
    "                             ):\n",
    "        \n",
    "        lower_right_color = get_opposite_color(upper_left_color)\n",
    "        upper_right_color = blend_mode(upper_left_color, lower_right_color)\n",
    "        gp.palette_name=palette_name\n",
    "        gp.grid_size=grid_size\n",
    "        gp._update_from_colors(upper_left_color,lower_right_color,upper_right_color)\n",
    "        gp.show_grid()\n",
    "    return gp\n",
    "\n",
    "BivariateGridPalette.from_picker = from_picker\n",
    "\n"
   ]
  },
  {
   "cell_type": "code",
   "execution_count": null,
   "metadata": {},
   "outputs": [
    {
     "data": {
      "application/vnd.jupyter.widget-view+json": {
       "model_id": "805882ba940b461ba610a4a1c5930858",
       "version_major": 2,
       "version_minor": 0
      },
      "text/plain": [
       "interactive(children=(ColorPicker(value='#64acbe', description='upper_left_color'), IntSlider(value=3, descrip…"
      ]
     },
     "metadata": {},
     "output_type": "display_data"
    }
   ],
   "source": [
    "gp = from_picker()"
   ]
  },
  {
   "cell_type": "code",
   "execution_count": null,
   "metadata": {},
   "outputs": [],
   "source": [
    "#| export\n",
    "def from_pickers_3():\n",
    "    \"BivariateGridPalette from three color pickers\"\n",
    "    \n",
    "    gp = BivariateGridPalette()\n",
    "    @widgets.interact\n",
    "    def choose_three_colors(upper_left_color=widgets.ColorPicker(value=gp.upper_left_color),\n",
    "                            lower_right_color=widgets.ColorPicker(value=gp.lower_right_color),\n",
    "                            upper_right_color=widgets.ColorPicker(value=gp.upper_right_color),\n",
    "                            grid_size=widgets.IntSlider(min=2, max=10, step=1, value=3, description=\"Grid Size:\"),\n",
    "                            palette_name='from_picker'):\n",
    "    \n",
    "        gp.grid_size = grid_size\n",
    "        gp.palette_name=palette_name\n",
    "        gp._update_from_colors(upper_left_color,lower_right_color,upper_right_color)\n",
    "        gp.show_grid()\n",
    "    \n",
    "    return gp\n",
    "\n",
    "BivariateGridPalette.from_picker = from_picker\n"
   ]
  },
  {
   "cell_type": "code",
   "execution_count": null,
   "metadata": {},
   "outputs": [
    {
     "data": {
      "application/vnd.jupyter.widget-view+json": {
       "model_id": "68db6b89c8aa4cfb8c40ac5287ee7fb5",
       "version_major": 2,
       "version_minor": 0
      },
      "text/plain": [
       "interactive(children=(ColorPicker(value='#64acbe', description='upper_left_color'), ColorPicker(value='#c85a5a…"
      ]
     },
     "metadata": {},
     "output_type": "display_data"
    }
   ],
   "source": [
    "gp = from_pickers_3()"
   ]
  },
  {
   "cell_type": "code",
   "execution_count": null,
   "metadata": {},
   "outputs": [],
   "source": [
    "#| hide\n",
    "import nbdev; nbdev.nbdev_export()"
   ]
  }
 ],
 "metadata": {
  "kernelspec": {
   "display_name": "python3",
   "language": "python",
   "name": "python3"
  }
 },
 "nbformat": 4,
 "nbformat_minor": 4
}
